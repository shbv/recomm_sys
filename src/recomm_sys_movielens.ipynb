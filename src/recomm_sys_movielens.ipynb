{
 "cells": [
  {
   "cell_type": "markdown",
   "metadata": {
    "heading_collapsed": true
   },
   "source": [
    "### Packages"
   ]
  },
  {
   "cell_type": "code",
   "execution_count": 100,
   "metadata": {
    "hidden": true
   },
   "outputs": [],
   "source": [
    "import pandas as pd\n",
    "from IPython.display import display\n",
    "import numpy as np\n",
    "#from keras.layers import Dense, Flatten, Embedding, Input, Dropout, SpatialDropout1D, merge\n",
    "from keras.layers import Dense, Flatten, Embedding, Input, Dropout \n",
    "from keras.layers import merge, dot, add, concatenate\n",
    "from keras.models import Model\n",
    "from keras.optimizers import SGD, RMSprop, Adam\n",
    "from keras.regularizers import l2, l1 \n",
    "from sklearn.metrics import mean_squared_error\n",
    "from keras.callbacks import ModelCheckpoint, EarlyStopping"
   ]
  },
  {
   "cell_type": "markdown",
   "metadata": {
    "heading_collapsed": true
   },
   "source": [
    "### Read data"
   ]
  },
  {
   "cell_type": "code",
   "execution_count": 101,
   "metadata": {
    "collapsed": true,
    "hidden": true
   },
   "outputs": [],
   "source": [
    "# From http://files.grouplens.org/datasets/movielens/ml-latest-small.zip\n",
    "inputdir = \"../data/ml-latest-small/\"\n",
    "ratings = inputdir + \"ratings.csv\"\n",
    "movies = inputdir + \"movies.csv\"\n",
    "modeldir = \"./models/\""
   ]
  },
  {
   "cell_type": "code",
   "execution_count": 102,
   "metadata": {
    "collapsed": true,
    "hidden": true
   },
   "outputs": [],
   "source": [
    "ratings_df = pd.read_csv(ratings)\n",
    "movies_df = pd.read_csv(movies)"
   ]
  },
  {
   "cell_type": "markdown",
   "metadata": {
    "heading_collapsed": true
   },
   "source": [
    "### Explore data and Prep data for embedding layer usage"
   ]
  },
  {
   "cell_type": "code",
   "execution_count": 103,
   "metadata": {
    "hidden": true
   },
   "outputs": [
    {
     "data": {
      "text/html": [
       "<div>\n",
       "<style>\n",
       "    .dataframe thead tr:only-child th {\n",
       "        text-align: right;\n",
       "    }\n",
       "\n",
       "    .dataframe thead th {\n",
       "        text-align: left;\n",
       "    }\n",
       "\n",
       "    .dataframe tbody tr th {\n",
       "        vertical-align: top;\n",
       "    }\n",
       "</style>\n",
       "<table border=\"1\" class=\"dataframe\">\n",
       "  <thead>\n",
       "    <tr style=\"text-align: right;\">\n",
       "      <th></th>\n",
       "      <th>userId</th>\n",
       "      <th>movieId</th>\n",
       "      <th>rating</th>\n",
       "      <th>timestamp</th>\n",
       "    </tr>\n",
       "  </thead>\n",
       "  <tbody>\n",
       "    <tr>\n",
       "      <th>0</th>\n",
       "      <td>1</td>\n",
       "      <td>31</td>\n",
       "      <td>2.5</td>\n",
       "      <td>1260759144</td>\n",
       "    </tr>\n",
       "    <tr>\n",
       "      <th>1</th>\n",
       "      <td>1</td>\n",
       "      <td>1029</td>\n",
       "      <td>3.0</td>\n",
       "      <td>1260759179</td>\n",
       "    </tr>\n",
       "    <tr>\n",
       "      <th>2</th>\n",
       "      <td>1</td>\n",
       "      <td>1061</td>\n",
       "      <td>3.0</td>\n",
       "      <td>1260759182</td>\n",
       "    </tr>\n",
       "    <tr>\n",
       "      <th>3</th>\n",
       "      <td>1</td>\n",
       "      <td>1129</td>\n",
       "      <td>2.0</td>\n",
       "      <td>1260759185</td>\n",
       "    </tr>\n",
       "    <tr>\n",
       "      <th>4</th>\n",
       "      <td>1</td>\n",
       "      <td>1172</td>\n",
       "      <td>4.0</td>\n",
       "      <td>1260759205</td>\n",
       "    </tr>\n",
       "  </tbody>\n",
       "</table>\n",
       "</div>"
      ],
      "text/plain": [
       "   userId  movieId  rating   timestamp\n",
       "0       1       31     2.5  1260759144\n",
       "1       1     1029     3.0  1260759179\n",
       "2       1     1061     3.0  1260759182\n",
       "3       1     1129     2.0  1260759185\n",
       "4       1     1172     4.0  1260759205"
      ]
     },
     "metadata": {},
     "output_type": "display_data"
    },
    {
     "data": {
      "text/html": [
       "<div>\n",
       "<style>\n",
       "    .dataframe thead tr:only-child th {\n",
       "        text-align: right;\n",
       "    }\n",
       "\n",
       "    .dataframe thead th {\n",
       "        text-align: left;\n",
       "    }\n",
       "\n",
       "    .dataframe tbody tr th {\n",
       "        vertical-align: top;\n",
       "    }\n",
       "</style>\n",
       "<table border=\"1\" class=\"dataframe\">\n",
       "  <thead>\n",
       "    <tr style=\"text-align: right;\">\n",
       "      <th></th>\n",
       "      <th>movieId</th>\n",
       "      <th>title</th>\n",
       "      <th>genres</th>\n",
       "    </tr>\n",
       "  </thead>\n",
       "  <tbody>\n",
       "    <tr>\n",
       "      <th>0</th>\n",
       "      <td>1</td>\n",
       "      <td>Toy Story (1995)</td>\n",
       "      <td>Adventure|Animation|Children|Comedy|Fantasy</td>\n",
       "    </tr>\n",
       "    <tr>\n",
       "      <th>1</th>\n",
       "      <td>2</td>\n",
       "      <td>Jumanji (1995)</td>\n",
       "      <td>Adventure|Children|Fantasy</td>\n",
       "    </tr>\n",
       "    <tr>\n",
       "      <th>2</th>\n",
       "      <td>3</td>\n",
       "      <td>Grumpier Old Men (1995)</td>\n",
       "      <td>Comedy|Romance</td>\n",
       "    </tr>\n",
       "    <tr>\n",
       "      <th>3</th>\n",
       "      <td>4</td>\n",
       "      <td>Waiting to Exhale (1995)</td>\n",
       "      <td>Comedy|Drama|Romance</td>\n",
       "    </tr>\n",
       "    <tr>\n",
       "      <th>4</th>\n",
       "      <td>5</td>\n",
       "      <td>Father of the Bride Part II (1995)</td>\n",
       "      <td>Comedy</td>\n",
       "    </tr>\n",
       "  </tbody>\n",
       "</table>\n",
       "</div>"
      ],
      "text/plain": [
       "   movieId                               title  \\\n",
       "0        1                    Toy Story (1995)   \n",
       "1        2                      Jumanji (1995)   \n",
       "2        3             Grumpier Old Men (1995)   \n",
       "3        4            Waiting to Exhale (1995)   \n",
       "4        5  Father of the Bride Part II (1995)   \n",
       "\n",
       "                                        genres  \n",
       "0  Adventure|Animation|Children|Comedy|Fantasy  \n",
       "1                   Adventure|Children|Fantasy  \n",
       "2                               Comedy|Romance  \n",
       "3                         Comedy|Drama|Romance  \n",
       "4                                       Comedy  "
      ]
     },
     "metadata": {},
     "output_type": "display_data"
    }
   ],
   "source": [
    "display(ratings_df.head())\n",
    "display(movies_df.head())"
   ]
  },
  {
   "cell_type": "raw",
   "metadata": {
    "hidden": true
   },
   "source": [
    "movies_df.set_index('movieId')"
   ]
  },
  {
   "cell_type": "code",
   "execution_count": 104,
   "metadata": {
    "hidden": true
   },
   "outputs": [
    {
     "data": {
      "text/plain": [
       "((100004, 4), (9125, 3))"
      ]
     },
     "execution_count": 104,
     "metadata": {},
     "output_type": "execute_result"
    }
   ],
   "source": [
    "ratings_df.shape, movies_df.shape"
   ]
  },
  {
   "cell_type": "code",
   "execution_count": 105,
   "metadata": {
    "collapsed": true,
    "hidden": true
   },
   "outputs": [],
   "source": [
    "# Get unique users and movie ids\n",
    "moviesid = ratings_df['movieId'].unique()\n",
    "usersid = ratings_df['userId'].unique()"
   ]
  },
  {
   "cell_type": "code",
   "execution_count": 106,
   "metadata": {
    "hidden": true
   },
   "outputs": [
    {
     "data": {
      "text/plain": [
       "(9066, 671)"
      ]
     },
     "execution_count": 106,
     "metadata": {},
     "output_type": "execute_result"
    }
   ],
   "source": [
    "# Create dict of movieid to its own index, and userid to its own index\n",
    "movies2idx = {o:i for i,o in enumerate(moviesid)}\n",
    "users2idx = {o:i for i,o in enumerate(usersid)}\n",
    "len(movies2idx), len(users2idx)"
   ]
  },
  {
   "cell_type": "code",
   "execution_count": 107,
   "metadata": {
    "collapsed": true,
    "hidden": true
   },
   "outputs": [],
   "source": [
    "# Convert the ids of movies and users to be continuous integers using above dict\n",
    "# backup old ids\n",
    "ratings_df['old_userId'] = ratings_df['userId']\n",
    "ratings_df['old_movieId'] = ratings_df['movieId']\n",
    "# new ids\n",
    "ratings_df['userId'] = ratings_df['userId'].apply(lambda uid: users2idx[uid]) \n",
    "ratings_df['movieId'] = ratings_df['movieId'].apply(lambda mid: movies2idx[mid])"
   ]
  },
  {
   "cell_type": "code",
   "execution_count": 108,
   "metadata": {
    "hidden": true
   },
   "outputs": [
    {
     "data": {
      "text/html": [
       "<div>\n",
       "<style>\n",
       "    .dataframe thead tr:only-child th {\n",
       "        text-align: right;\n",
       "    }\n",
       "\n",
       "    .dataframe thead th {\n",
       "        text-align: left;\n",
       "    }\n",
       "\n",
       "    .dataframe tbody tr th {\n",
       "        vertical-align: top;\n",
       "    }\n",
       "</style>\n",
       "<table border=\"1\" class=\"dataframe\">\n",
       "  <thead>\n",
       "    <tr style=\"text-align: right;\">\n",
       "      <th></th>\n",
       "      <th>userId</th>\n",
       "      <th>movieId</th>\n",
       "      <th>rating</th>\n",
       "      <th>timestamp</th>\n",
       "      <th>old_userId</th>\n",
       "      <th>old_movieId</th>\n",
       "    </tr>\n",
       "  </thead>\n",
       "  <tbody>\n",
       "    <tr>\n",
       "      <th>0</th>\n",
       "      <td>0</td>\n",
       "      <td>0</td>\n",
       "      <td>2.5</td>\n",
       "      <td>1260759144</td>\n",
       "      <td>1</td>\n",
       "      <td>31</td>\n",
       "    </tr>\n",
       "    <tr>\n",
       "      <th>1</th>\n",
       "      <td>0</td>\n",
       "      <td>1</td>\n",
       "      <td>3.0</td>\n",
       "      <td>1260759179</td>\n",
       "      <td>1</td>\n",
       "      <td>1029</td>\n",
       "    </tr>\n",
       "    <tr>\n",
       "      <th>2</th>\n",
       "      <td>0</td>\n",
       "      <td>2</td>\n",
       "      <td>3.0</td>\n",
       "      <td>1260759182</td>\n",
       "      <td>1</td>\n",
       "      <td>1061</td>\n",
       "    </tr>\n",
       "    <tr>\n",
       "      <th>3</th>\n",
       "      <td>0</td>\n",
       "      <td>3</td>\n",
       "      <td>2.0</td>\n",
       "      <td>1260759185</td>\n",
       "      <td>1</td>\n",
       "      <td>1129</td>\n",
       "    </tr>\n",
       "    <tr>\n",
       "      <th>4</th>\n",
       "      <td>0</td>\n",
       "      <td>4</td>\n",
       "      <td>4.0</td>\n",
       "      <td>1260759205</td>\n",
       "      <td>1</td>\n",
       "      <td>1172</td>\n",
       "    </tr>\n",
       "  </tbody>\n",
       "</table>\n",
       "</div>"
      ],
      "text/plain": [
       "   userId  movieId  rating   timestamp  old_userId  old_movieId\n",
       "0       0        0     2.5  1260759144           1           31\n",
       "1       0        1     3.0  1260759179           1         1029\n",
       "2       0        2     3.0  1260759182           1         1061\n",
       "3       0        3     2.0  1260759185           1         1129\n",
       "4       0        4     4.0  1260759205           1         1172"
      ]
     },
     "execution_count": 108,
     "metadata": {},
     "output_type": "execute_result"
    }
   ],
   "source": [
    "ratings_df.head()"
   ]
  },
  {
   "cell_type": "code",
   "execution_count": 109,
   "metadata": {
    "hidden": true
   },
   "outputs": [
    {
     "data": {
      "text/plain": [
       "(671, 9066)"
      ]
     },
     "execution_count": 109,
     "metadata": {},
     "output_type": "execute_result"
    }
   ],
   "source": [
    "num_users =  ratings_df['userId'].nunique()\n",
    "num_movies =  ratings_df['movieId'].nunique()\n",
    "num_users, num_movies"
   ]
  },
  {
   "cell_type": "code",
   "execution_count": 110,
   "metadata": {
    "hidden": true
   },
   "outputs": [
    {
     "data": {
      "text/plain": [
       "0"
      ]
     },
     "execution_count": 110,
     "metadata": {},
     "output_type": "execute_result"
    }
   ],
   "source": [
    "# Check if there are 0 ratings\n",
    "(ratings_df['rating'] < 0.1).sum()\n",
    "#ratings_df[ratings_df['rating'] < 0.1]"
   ]
  },
  {
   "cell_type": "markdown",
   "metadata": {
    "heading_collapsed": true
   },
   "source": [
    "### Prep data for model - split train and test sets"
   ]
  },
  {
   "cell_type": "code",
   "execution_count": 111,
   "metadata": {
    "collapsed": true,
    "hidden": true
   },
   "outputs": [],
   "source": [
    "# Seed for np random\n",
    "np.random.seed(50)"
   ]
  },
  {
   "cell_type": "code",
   "execution_count": 112,
   "metadata": {
    "collapsed": true,
    "hidden": true
   },
   "outputs": [],
   "source": [
    "# Num of features for users and movies\n",
    "num_features = 50"
   ]
  },
  {
   "cell_type": "code",
   "execution_count": 113,
   "metadata": {
    "collapsed": true,
    "hidden": true
   },
   "outputs": [],
   "source": [
    "# Split to train and test set\n",
    "cv_idx = np.random.rand(len(ratings_df)) < 0.8\n",
    "ratings_train = ratings_df[cv_idx]\n",
    "ratings_test = ratings_df[~cv_idx]"
   ]
  },
  {
   "cell_type": "code",
   "execution_count": 114,
   "metadata": {
    "hidden": true
   },
   "outputs": [
    {
     "data": {
      "text/plain": [
       "(80205, 19799)"
      ]
     },
     "execution_count": 114,
     "metadata": {},
     "output_type": "execute_result"
    }
   ],
   "source": [
    "len(ratings_train), len(ratings_test)"
   ]
  },
  {
   "cell_type": "raw",
   "metadata": {
    "hidden": true
   },
   "source": [
    "ratings_train.head()"
   ]
  },
  {
   "cell_type": "code",
   "execution_count": 115,
   "metadata": {
    "collapsed": true,
    "hidden": true
   },
   "outputs": [],
   "source": [
    "# Train inputs and outputs\n",
    "x_u_train = ratings_train['userId']\n",
    "x_m_train = ratings_train['movieId']\n",
    "y_train = ratings_train['rating']\n",
    "\n",
    "# Test inputs and outputs\n",
    "x_u_test = ratings_test['userId']\n",
    "x_m_test = ratings_test['movieId']\n",
    "y_test = ratings_test['rating']"
   ]
  },
  {
   "cell_type": "code",
   "execution_count": 116,
   "metadata": {
    "hidden": true
   },
   "outputs": [
    {
     "name": "stdout",
     "output_type": "stream",
     "text": [
      "(80205,) (80205,) (80205,)\n",
      "(19799,) (19799,) (19799,)\n"
     ]
    }
   ],
   "source": [
    "print(x_u_train.shape, x_m_train.shape, y_train.shape)\n",
    "print(x_u_test.shape, x_m_test.shape, y_test.shape)"
   ]
  },
  {
   "cell_type": "markdown",
   "metadata": {
    "heading_collapsed": true
   },
   "source": [
    "### Prep data for baseline model"
   ]
  },
  {
   "cell_type": "code",
   "execution_count": 117,
   "metadata": {
    "hidden": true
   },
   "outputs": [],
   "source": [
    "# Create ratings to user matrix\n",
    "ratings_u2m = np.zeros((num_users, num_movies)) \n",
    "for _ , rating in ratings_df.iterrows():\n",
    "    u = rating['userId']\n",
    "    m = rating['movieId']\n",
    "    r = rating['rating']\n",
    "    ratings_u2m[int(u)][int(m)] = r"
   ]
  },
  {
   "cell_type": "code",
   "execution_count": 118,
   "metadata": {
    "hidden": true
   },
   "outputs": [
    {
     "name": "stdout",
     "output_type": "stream",
     "text": [
      "num_avail_ratings, num_possible_ratings, sparsity of matrix =  100004 6083286 98.35608583913366\n"
     ]
    }
   ],
   "source": [
    "# Number of ratings avail vs total\n",
    "num_possible_ratings = len((ratings_u2m).ravel())\n",
    "num_avail_ratings = np.count_nonzero(ratings_u2m.ravel())\n",
    "print(\"num_avail_ratings, num_possible_ratings, sparsity of matrix = \", \n",
    "                              num_avail_ratings, num_possible_ratings, \n",
    "                              100. - num_avail_ratings*100./num_possible_ratings)"
   ]
  },
  {
   "cell_type": "code",
   "execution_count": 119,
   "metadata": {
    "collapsed": true,
    "hidden": true
   },
   "outputs": [],
   "source": [
    "# Create ratings to user matrix for test set\n",
    "ratings_u2m_test = np.zeros((num_users, num_movies)) \n",
    "for _ , rating in ratings_test.iterrows():\n",
    "    u = rating['userId']\n",
    "    m = rating['movieId']\n",
    "    r = rating['rating']\n",
    "    ratings_u2m_test[int(u)][int(m)] = r"
   ]
  },
  {
   "cell_type": "markdown",
   "metadata": {
    "heading_collapsed": true
   },
   "source": [
    "### Dataset details so far:\n",
    "Num of users: 671  \n",
    "Num of movies: 9066  \n",
    "Num of ratings available: 100,004   "
   ]
  },
  {
   "cell_type": "markdown",
   "metadata": {
    "heading_collapsed": true
   },
   "source": [
    "### Performance metric"
   ]
  },
  {
   "cell_type": "code",
   "execution_count": 120,
   "metadata": {
    "collapsed": true,
    "hidden": true
   },
   "outputs": [],
   "source": [
    "def rmse(y_pred, y_true, matrix=False):\n",
    "    if matrix:\n",
    "        y_pred = y_pred[y_true.nonzero()].flatten()\n",
    "        y_true = y_true[y_true.nonzero()].flatten()\n",
    "    return np.sqrt(mean_squared_error(y_pred, y_true))"
   ]
  },
  {
   "cell_type": "markdown",
   "metadata": {
    "heading_collapsed": true
   },
   "source": [
    "### Baseline model"
   ]
  },
  {
   "cell_type": "code",
   "execution_count": 121,
   "metadata": {
    "hidden": true
   },
   "outputs": [
    {
     "data": {
      "text/plain": [
       "((671,), (9066,))"
      ]
     },
     "execution_count": 121,
     "metadata": {},
     "output_type": "execute_result"
    }
   ],
   "source": [
    "# Num of movies per user, and users per movie\n",
    "num_movies_rated_per_user = np.count_nonzero(ratings_u2m, axis = 1)\n",
    "num_user_rating_per_movie = np.count_nonzero(ratings_u2m, axis = 0)\n",
    "num_movies_rated_per_user.shape, num_user_rating_per_movie.shape"
   ]
  },
  {
   "cell_type": "markdown",
   "metadata": {
    "heading_collapsed": true,
    "hidden": true
   },
   "source": [
    "#### Avg user rating on existing movies "
   ]
  },
  {
   "cell_type": "code",
   "execution_count": 154,
   "metadata": {
    "hidden": true
   },
   "outputs": [],
   "source": [
    "avg_rating_of_user = ratings_u2m.sum(axis = 1) / num_movies_rated_per_user\n",
    "ypred_avg_user = (np.zeros((num_users, num_movies)) + \n",
    "         avg_rating_of_user.reshape(num_movies_rated_per_user.shape[0],1))"
   ]
  },
  {
   "cell_type": "markdown",
   "metadata": {
    "heading_collapsed": true,
    "hidden": true
   },
   "source": [
    "#### Avg movie rating for existing users "
   ]
  },
  {
   "cell_type": "code",
   "execution_count": 153,
   "metadata": {
    "hidden": true
   },
   "outputs": [],
   "source": [
    "avg_rating_of_movie = ratings_u2m.sum(axis = 0) / num_user_rating_per_movie\n",
    "ypred_avg_movie = (np.zeros((num_users, num_movies)) + \n",
    "         avg_rating_of_movie.reshape(num_user_rating_per_movie.shape[0],1).T)"
   ]
  },
  {
   "cell_type": "markdown",
   "metadata": {
    "heading_collapsed": true,
    "hidden": true
   },
   "source": [
    "#### Predict Avg of avg user rating and avg movie rating for new user/movie combo"
   ]
  },
  {
   "cell_type": "code",
   "execution_count": 155,
   "metadata": {
    "hidden": true
   },
   "outputs": [
    {
     "name": "stdout",
     "output_type": "stream",
     "text": [
      "RMSE of avg of avg user and avg movie rating model: 0.880672553613\n"
     ]
    }
   ],
   "source": [
    "ypred = (ypred_avg_user + ypred_avg_movie)/2.\n",
    "#np.isnan(ypred).sum()\n",
    "err = rmse(ypred, ratings_u2m_test, matrix = True)\n",
    "print(\"RMSE of avg of avg user and avg movie rating model:\",err)"
   ]
  },
  {
   "cell_type": "markdown",
   "metadata": {
    "heading_collapsed": true
   },
   "source": [
    "### Collobarative filtering - Matrix dot product\n",
    "Using embedding layer to find latent user/movie features"
   ]
  },
  {
   "cell_type": "markdown",
   "metadata": {
    "heading_collapsed": true,
    "hidden": true
   },
   "source": [
    "#### Define and fit model. No regularization"
   ]
  },
  {
   "cell_type": "code",
   "execution_count": 125,
   "metadata": {
    "collapsed": true,
    "hidden": true
   },
   "outputs": [],
   "source": [
    "def coll_filter_model(num_users, num_movies, include_bias = True):\n",
    "\n",
    "    # User \n",
    "    userid_input = Input(shape=(1,), dtype = 'int64', name='user_input')\n",
    "    user_features = Embedding(input_dim = num_users, \n",
    "                              output_dim = num_features, \n",
    "                              input_length =1 )(userid_input)\n",
    "\n",
    "    \n",
    "    # Movie \n",
    "    movieid_input = Input(shape=(1,), dtype = 'int64', name='movie_input')\n",
    "    movie_features = Embedding(input_dim = num_movies, \n",
    "                               output_dim = num_features, \n",
    "                               input_length = 1)(movieid_input)\n",
    "\n",
    "    \n",
    "    # Prediction\n",
    "    ypred = dot([user_features, movie_features], axes = (2,2))\n",
    "    ypred = Flatten()(ypred)\n",
    "    \n",
    "    \n",
    "    # Include user and movie bias?\n",
    "    if include_bias:\n",
    "        \n",
    "        # User bias\n",
    "        user_bias = Embedding(input_dim = num_users, \n",
    "                              output_dim = 1, \n",
    "                              input_length =1 )(userid_input) \n",
    "        user_bias = Flatten()(user_bias)\n",
    "        \n",
    "        # Movie bias\n",
    "        movie_bias = Embedding(input_dim = num_movies, \n",
    "                               output_dim = 1, \n",
    "                               input_length = 1)(movieid_input)    \n",
    "        movie_bias = Flatten()(movie_bias)\n",
    "        \n",
    "        # Prediction\n",
    "        ypred = add([ypred,user_bias])\n",
    "        ypred = add([ypred,movie_bias])\n",
    "        \n",
    "    \n",
    "    # Model\n",
    "    model = Model(inputs = [userid_input, movieid_input], outputs = ypred)\n",
    "    model.compile(optimizer = Adam(0.001), loss = 'mse')\n",
    "    model.summary()\n",
    "    return model\n",
    "\n"
   ]
  },
  {
   "cell_type": "code",
   "execution_count": 126,
   "metadata": {
    "hidden": true
   },
   "outputs": [
    {
     "name": "stdout",
     "output_type": "stream",
     "text": [
      "__________________________________________________________________________________________________\n",
      "Layer (type)                    Output Shape         Param #     Connected to                     \n",
      "==================================================================================================\n",
      "user_input (InputLayer)         (None, 1)            0                                            \n",
      "__________________________________________________________________________________________________\n",
      "movie_input (InputLayer)        (None, 1)            0                                            \n",
      "__________________________________________________________________________________________________\n",
      "embedding_1 (Embedding)         (None, 1, 50)        33550       user_input[0][0]                 \n",
      "__________________________________________________________________________________________________\n",
      "embedding_2 (Embedding)         (None, 1, 50)        453300      movie_input[0][0]                \n",
      "__________________________________________________________________________________________________\n",
      "dot_1 (Dot)                     (None, 1, 1)         0           embedding_1[0][0]                \n",
      "                                                                 embedding_2[0][0]                \n",
      "__________________________________________________________________________________________________\n",
      "flatten_1 (Flatten)             (None, 1)            0           dot_1[0][0]                      \n",
      "==================================================================================================\n",
      "Total params: 486,850\n",
      "Trainable params: 486,850\n",
      "Non-trainable params: 0\n",
      "__________________________________________________________________________________________________\n",
      "Train on 80205 samples, validate on 19799 samples\n",
      "Epoch 1/50\n",
      "80205/80205 [==============================] - 2s 30us/step - loss: 12.5391 - val_loss: 7.8326\n",
      "Epoch 2/50\n",
      "80205/80205 [==============================] - 1s 15us/step - loss: 3.8271 - val_loss: 2.3679\n",
      "Epoch 3/50\n",
      "80205/80205 [==============================] - 1s 15us/step - loss: 1.6112 - val_loss: 1.6602\n",
      "Epoch 4/50\n",
      "80205/80205 [==============================] - 1s 15us/step - loss: 1.1118 - val_loss: 1.4250\n",
      "Epoch 5/50\n",
      "80205/80205 [==============================] - 1s 15us/step - loss: 0.8963 - val_loss: 1.3251\n",
      "Epoch 6/50\n",
      "80205/80205 [==============================] - 1s 15us/step - loss: 0.7745 - val_loss: 1.2761\n",
      "Epoch 7/50\n",
      "80205/80205 [==============================] - 1s 15us/step - loss: 0.6963 - val_loss: 1.2500\n",
      "Epoch 8/50\n",
      "80205/80205 [==============================] - 1s 15us/step - loss: 0.6392 - val_loss: 1.2427\n",
      "Epoch 9/50\n",
      "80205/80205 [==============================] - 1s 15us/step - loss: 0.5925 - val_loss: 1.2373\n",
      "Epoch 10/50\n",
      "80205/80205 [==============================] - 1s 15us/step - loss: 0.5513 - val_loss: 1.2362\n",
      "Epoch 11/50\n",
      "80205/80205 [==============================] - 1s 15us/step - loss: 0.5109 - val_loss: 1.2390\n",
      "Epoch 12/50\n",
      "80205/80205 [==============================] - 1s 16us/step - loss: 0.4726 - val_loss: 1.2461\n",
      "Epoch 13/50\n",
      "80205/80205 [==============================] - 1s 16us/step - loss: 0.4360 - val_loss: 1.2485\n",
      "RMSE of coll filter without user/movie bias: 1.11735167833\n"
     ]
    }
   ],
   "source": [
    "# Fit the model and make prediction\n",
    "# No bias terms for movie and users\n",
    "model = coll_filter_model(num_users, num_movies, include_bias = False)\n",
    "validation_data = ([x_u_test, x_m_test], y_test)\n",
    "checkpointer = EarlyStopping(patience=3, monitor='val_loss')\n",
    "model.fit([x_u_train, x_m_train], y_train,\n",
    "          validation_data = validation_data,\n",
    "          #validation_split = 0.05, shuffle = True,\n",
    "          callbacks=[checkpointer],\n",
    "          batch_size = 128, epochs = 50)\n",
    "# Predict and check performance\n",
    "y_pred = model.predict([x_u_test, x_m_test])\n",
    "err = rmse(y_pred, y_test)\n",
    "print(\"RMSE of coll filter without user/movie bias:\",err)"
   ]
  },
  {
   "cell_type": "code",
   "execution_count": 127,
   "metadata": {
    "hidden": true
   },
   "outputs": [
    {
     "name": "stdout",
     "output_type": "stream",
     "text": [
      "__________________________________________________________________________________________________\n",
      "Layer (type)                    Output Shape         Param #     Connected to                     \n",
      "==================================================================================================\n",
      "user_input (InputLayer)         (None, 1)            0                                            \n",
      "__________________________________________________________________________________________________\n",
      "movie_input (InputLayer)        (None, 1)            0                                            \n",
      "__________________________________________________________________________________________________\n",
      "embedding_3 (Embedding)         (None, 1, 50)        33550       user_input[0][0]                 \n",
      "__________________________________________________________________________________________________\n",
      "embedding_4 (Embedding)         (None, 1, 50)        453300      movie_input[0][0]                \n",
      "__________________________________________________________________________________________________\n",
      "dot_2 (Dot)                     (None, 1, 1)         0           embedding_3[0][0]                \n",
      "                                                                 embedding_4[0][0]                \n",
      "__________________________________________________________________________________________________\n",
      "embedding_5 (Embedding)         (None, 1, 1)         671         user_input[0][0]                 \n",
      "__________________________________________________________________________________________________\n",
      "flatten_2 (Flatten)             (None, 1)            0           dot_2[0][0]                      \n",
      "__________________________________________________________________________________________________\n",
      "flatten_3 (Flatten)             (None, 1)            0           embedding_5[0][0]                \n",
      "__________________________________________________________________________________________________\n",
      "embedding_6 (Embedding)         (None, 1, 1)         9066        movie_input[0][0]                \n",
      "__________________________________________________________________________________________________\n",
      "add_1 (Add)                     (None, 1)            0           flatten_2[0][0]                  \n",
      "                                                                 flatten_3[0][0]                  \n",
      "__________________________________________________________________________________________________\n",
      "flatten_4 (Flatten)             (None, 1)            0           embedding_6[0][0]                \n",
      "__________________________________________________________________________________________________\n",
      "add_2 (Add)                     (None, 1)            0           add_1[0][0]                      \n",
      "                                                                 flatten_4[0][0]                  \n",
      "==================================================================================================\n",
      "Total params: 496,587\n",
      "Trainable params: 496,587\n",
      "Non-trainable params: 0\n",
      "__________________________________________________________________________________________________\n",
      "Train on 80205 samples, validate on 19799 samples\n",
      "Epoch 1/50\n",
      "80205/80205 [==============================] - 2s 19us/step - loss: 11.3712 - val_loss: 6.5883\n",
      "Epoch 2/50\n",
      "80205/80205 [==============================] - 1s 18us/step - loss: 3.2087 - val_loss: 1.9894\n",
      "Epoch 3/50\n",
      "80205/80205 [==============================] - 1s 17us/step - loss: 1.3798 - val_loss: 1.4118\n",
      "Epoch 4/50\n",
      "80205/80205 [==============================] - 1s 18us/step - loss: 0.9754 - val_loss: 1.2235\n",
      "Epoch 5/50\n",
      "80205/80205 [==============================] - 1s 18us/step - loss: 0.7946 - val_loss: 1.1446\n",
      "Epoch 6/50\n",
      "80205/80205 [==============================] - 1s 18us/step - loss: 0.6877 - val_loss: 1.1075\n",
      "Epoch 7/50\n",
      "80205/80205 [==============================] - 1s 17us/step - loss: 0.6137 - val_loss: 1.0926\n",
      "Epoch 8/50\n",
      "80205/80205 [==============================] - 1s 17us/step - loss: 0.5567 - val_loss: 1.0897\n",
      "Epoch 9/50\n",
      "80205/80205 [==============================] - 1s 17us/step - loss: 0.5094 - val_loss: 1.0913\n",
      "Epoch 10/50\n",
      "80205/80205 [==============================] - 1s 17us/step - loss: 0.4668 - val_loss: 1.0905\n",
      "Epoch 11/50\n",
      "80205/80205 [==============================] - 1s 17us/step - loss: 0.4280 - val_loss: 1.0963\n",
      "RMSE of coll filter with user/movie bias: 1.0470291846\n"
     ]
    }
   ],
   "source": [
    "# Fit the model and make prediction\n",
    "# Include bias terms for movie and users\n",
    "model = coll_filter_model(num_users, num_movies, include_bias = True)\n",
    "validation_data = ([x_u_test, x_m_test], y_test)\n",
    "checkpointer = EarlyStopping(patience=3, monitor='val_loss')\n",
    "model.fit([x_u_train, x_m_train], y_train,\n",
    "          validation_data = validation_data,\n",
    "          #validation_split = 0.05, shuffle = True,              \n",
    "          callbacks=[checkpointer],\n",
    "          batch_size = 128, epochs = 50)\n",
    "# Predict and check performance\n",
    "y_pred = model.predict([x_u_test, x_m_test])\n",
    "err = rmse(y_pred, y_test)\n",
    "print(\"RMSE of coll filter with user/movie bias:\",err)"
   ]
  },
  {
   "cell_type": "markdown",
   "metadata": {
    "hidden": true
   },
   "source": [
    "#### Define and fit model. Include regularization"
   ]
  },
  {
   "cell_type": "code",
   "execution_count": 128,
   "metadata": {
    "collapsed": true,
    "hidden": true
   },
   "outputs": [],
   "source": [
    "# Include regularization\n",
    "def coll_filter_model_reg(num_users, num_movies, include_bias = True):\n",
    "\n",
    "    reg_factor = 1e-4\n",
    "    bias_reg_factor = 0\n",
    "    \n",
    "    # User \n",
    "    userid_input = Input(shape=(1,), dtype = 'int64', name='user_input')\n",
    "    user_features = Embedding(input_dim = num_users, \n",
    "                              output_dim = num_features, \n",
    "                              input_length =1,\n",
    "                              embeddings_regularizer=l2(reg_factor))(userid_input)\n",
    "\n",
    "    \n",
    "    # Movie \n",
    "    movieid_input = Input(shape=(1,), dtype = 'int64', name='movie_input')\n",
    "    movie_features = Embedding(input_dim = num_movies, \n",
    "                               output_dim = num_features, \n",
    "                               input_length = 1,\n",
    "                               embeddings_regularizer=l2(reg_factor))(movieid_input)\n",
    "\n",
    "    \n",
    "    # Prediction\n",
    "    ypred = dot([user_features, movie_features], axes = (2,2))\n",
    "    ypred = Flatten()(ypred)\n",
    "    \n",
    "    \n",
    "    # Include user and movie bias?\n",
    "    if include_bias:\n",
    "        \n",
    "        # User bias\n",
    "        user_bias = Embedding(input_dim = num_users, \n",
    "                              output_dim = 1, \n",
    "                              input_length =1,\n",
    "                              embeddings_regularizer=l2(bias_reg_factor))(userid_input) \n",
    "        user_bias = Flatten()(user_bias)\n",
    "        \n",
    "        # Movie bias\n",
    "        movie_bias = Embedding(input_dim = num_movies, \n",
    "                               output_dim = 1, \n",
    "                               input_length = 1,\n",
    "                               embeddings_regularizer=l2(bias_reg_factor))(movieid_input)    \n",
    "        movie_bias = Flatten()(movie_bias)\n",
    "        \n",
    "        # Prediction\n",
    "        ypred = add([ypred,user_bias])\n",
    "        ypred = add([ypred,movie_bias])\n",
    "        \n",
    "    \n",
    "    # Model\n",
    "    model = Model(inputs = [userid_input, movieid_input], outputs = ypred)\n",
    "    model.compile(optimizer = Adam(0.001), loss = 'mse')\n",
    "    model.summary()\n",
    "    return model"
   ]
  },
  {
   "cell_type": "code",
   "execution_count": 129,
   "metadata": {
    "hidden": true
   },
   "outputs": [
    {
     "name": "stdout",
     "output_type": "stream",
     "text": [
      "__________________________________________________________________________________________________\n",
      "Layer (type)                    Output Shape         Param #     Connected to                     \n",
      "==================================================================================================\n",
      "user_input (InputLayer)         (None, 1)            0                                            \n",
      "__________________________________________________________________________________________________\n",
      "movie_input (InputLayer)        (None, 1)            0                                            \n",
      "__________________________________________________________________________________________________\n",
      "embedding_7 (Embedding)         (None, 1, 50)        33550       user_input[0][0]                 \n",
      "__________________________________________________________________________________________________\n",
      "embedding_8 (Embedding)         (None, 1, 50)        453300      movie_input[0][0]                \n",
      "__________________________________________________________________________________________________\n",
      "dot_3 (Dot)                     (None, 1, 1)         0           embedding_7[0][0]                \n",
      "                                                                 embedding_8[0][0]                \n",
      "__________________________________________________________________________________________________\n",
      "flatten_5 (Flatten)             (None, 1)            0           dot_3[0][0]                      \n",
      "==================================================================================================\n",
      "Total params: 486,850\n",
      "Trainable params: 486,850\n",
      "Non-trainable params: 0\n",
      "__________________________________________________________________________________________________\n",
      "Train on 80205 samples, validate on 19799 samples\n",
      "Epoch 1/50\n",
      "80205/80205 [==============================] - 1s 18us/step - loss: 12.2611 - val_loss: 7.2369\n",
      "Epoch 2/50\n",
      "80205/80205 [==============================] - 1s 17us/step - loss: 4.2674 - val_loss: 3.2325\n",
      "Epoch 3/50\n",
      "80205/80205 [==============================] - 1s 17us/step - loss: 2.6262 - val_loss: 2.7399\n",
      "Epoch 4/50\n",
      "80205/80205 [==============================] - 1s 17us/step - loss: 2.2781 - val_loss: 2.6119\n",
      "Epoch 5/50\n",
      "80205/80205 [==============================] - 1s 17us/step - loss: 2.1491 - val_loss: 2.5698\n",
      "Epoch 6/50\n",
      "80205/80205 [==============================] - 1s 17us/step - loss: 2.0875 - val_loss: 2.5641\n",
      "Epoch 7/50\n",
      "80205/80205 [==============================] - 1s 17us/step - loss: 2.0538 - val_loss: 2.5576\n",
      "Epoch 8/50\n",
      "80205/80205 [==============================] - 1s 17us/step - loss: 2.0323 - val_loss: 2.5627\n",
      "Epoch 9/50\n",
      "80205/80205 [==============================] - 1s 17us/step - loss: 2.0137 - val_loss: 2.5683\n",
      "Epoch 10/50\n",
      "80205/80205 [==============================] - 1s 17us/step - loss: 1.9992 - val_loss: 2.5761\n",
      "RMSE of coll filter without user/movie bias: 1.19641261138\n"
     ]
    }
   ],
   "source": [
    "# Fit the model and make prediction\n",
    "# No bias terms for movie and users\n",
    "model = coll_filter_model_reg(num_users, num_movies, include_bias = False)\n",
    "validation_data = ([x_u_test, x_m_test], y_test)\n",
    "checkpointer = EarlyStopping(patience=3, monitor='val_loss')\n",
    "model.fit([x_u_train, x_m_train], y_train,\n",
    "          validation_data = validation_data,\n",
    "          #validation_split = 0.05, shuffle = True,\n",
    "          callbacks=[checkpointer],\n",
    "          batch_size = 128, epochs = 50)\n",
    "# Predict and check performance\n",
    "y_pred = model.predict([x_u_test, x_m_test])\n",
    "err = rmse(y_pred, y_test)\n",
    "print(\"RMSE of coll filter without user/movie bias:\",err)"
   ]
  },
  {
   "cell_type": "code",
   "execution_count": 130,
   "metadata": {
    "hidden": true
   },
   "outputs": [
    {
     "name": "stdout",
     "output_type": "stream",
     "text": [
      "__________________________________________________________________________________________________\n",
      "Layer (type)                    Output Shape         Param #     Connected to                     \n",
      "==================================================================================================\n",
      "user_input (InputLayer)         (None, 1)            0                                            \n",
      "__________________________________________________________________________________________________\n",
      "movie_input (InputLayer)        (None, 1)            0                                            \n",
      "__________________________________________________________________________________________________\n",
      "embedding_9 (Embedding)         (None, 1, 50)        33550       user_input[0][0]                 \n",
      "__________________________________________________________________________________________________\n",
      "embedding_10 (Embedding)        (None, 1, 50)        453300      movie_input[0][0]                \n",
      "__________________________________________________________________________________________________\n",
      "dot_4 (Dot)                     (None, 1, 1)         0           embedding_9[0][0]                \n",
      "                                                                 embedding_10[0][0]               \n",
      "__________________________________________________________________________________________________\n",
      "embedding_11 (Embedding)        (None, 1, 1)         671         user_input[0][0]                 \n",
      "__________________________________________________________________________________________________\n",
      "flatten_6 (Flatten)             (None, 1)            0           dot_4[0][0]                      \n",
      "__________________________________________________________________________________________________\n",
      "flatten_7 (Flatten)             (None, 1)            0           embedding_11[0][0]               \n",
      "__________________________________________________________________________________________________\n",
      "embedding_12 (Embedding)        (None, 1, 1)         9066        movie_input[0][0]                \n",
      "__________________________________________________________________________________________________\n",
      "add_3 (Add)                     (None, 1)            0           flatten_6[0][0]                  \n",
      "                                                                 flatten_7[0][0]                  \n",
      "__________________________________________________________________________________________________\n",
      "flatten_8 (Flatten)             (None, 1)            0           embedding_12[0][0]               \n",
      "__________________________________________________________________________________________________\n",
      "add_4 (Add)                     (None, 1)            0           add_3[0][0]                      \n",
      "                                                                 flatten_8[0][0]                  \n",
      "==================================================================================================\n",
      "Total params: 496,587\n",
      "Trainable params: 496,587\n",
      "Non-trainable params: 0\n",
      "__________________________________________________________________________________________________\n",
      "Train on 80205 samples, validate on 19799 samples\n",
      "Epoch 1/100\n",
      "80205/80205 [==============================] - 2s 20us/step - loss: 11.1887 - val_loss: 6.1554\n",
      "Epoch 2/100\n",
      "80205/80205 [==============================] - 1s 19us/step - loss: 3.5858 - val_loss: 2.6909\n",
      "Epoch 3/100\n",
      "80205/80205 [==============================] - 1s 18us/step - loss: 2.2213 - val_loss: 2.2926\n",
      "Epoch 4/100\n",
      "80205/80205 [==============================] - 1s 18us/step - loss: 1.9417 - val_loss: 2.1666\n",
      "Epoch 5/100\n",
      "80205/80205 [==============================] - 1s 18us/step - loss: 1.8232 - val_loss: 2.0989\n",
      "Epoch 6/100\n",
      "80205/80205 [==============================] - 1s 18us/step - loss: 1.7502 - val_loss: 2.0502\n",
      "Epoch 7/100\n",
      "80205/80205 [==============================] - 1s 19us/step - loss: 1.6916 - val_loss: 2.0100\n",
      "Epoch 8/100\n",
      "80205/80205 [==============================] - 2s 19us/step - loss: 1.6388 - val_loss: 1.9691\n",
      "Epoch 9/100\n",
      "80205/80205 [==============================] - 1s 19us/step - loss: 1.5889 - val_loss: 1.9241\n",
      "Epoch 10/100\n",
      "80205/80205 [==============================] - 2s 19us/step - loss: 1.5387 - val_loss: 1.8830\n",
      "Epoch 11/100\n",
      "80205/80205 [==============================] - 2s 19us/step - loss: 1.4899 - val_loss: 1.8408\n",
      "Epoch 12/100\n",
      "80205/80205 [==============================] - 2s 19us/step - loss: 1.4413 - val_loss: 1.7988\n",
      "Epoch 13/100\n",
      "80205/80205 [==============================] - 2s 19us/step - loss: 1.3941 - val_loss: 1.7550\n",
      "Epoch 14/100\n",
      "80205/80205 [==============================] - 2s 19us/step - loss: 1.3470 - val_loss: 1.7145\n",
      "Epoch 15/100\n",
      "80205/80205 [==============================] - 2s 19us/step - loss: 1.3015 - val_loss: 1.6750\n",
      "Epoch 16/100\n",
      "80205/80205 [==============================] - 2s 19us/step - loss: 1.2572 - val_loss: 1.6377\n",
      "Epoch 17/100\n",
      "80205/80205 [==============================] - 2s 19us/step - loss: 1.2146 - val_loss: 1.6015\n",
      "Epoch 18/100\n",
      "80205/80205 [==============================] - 2s 19us/step - loss: 1.1734 - val_loss: 1.5652\n",
      "Epoch 19/100\n",
      "80205/80205 [==============================] - 1s 19us/step - loss: 1.1327 - val_loss: 1.5317\n",
      "Epoch 20/100\n",
      "80205/80205 [==============================] - 2s 20us/step - loss: 1.0941 - val_loss: 1.4968\n",
      "Epoch 21/100\n",
      "80205/80205 [==============================] - 1s 19us/step - loss: 1.0563 - val_loss: 1.4645\n",
      "Epoch 22/100\n",
      "80205/80205 [==============================] - 1s 18us/step - loss: 1.0198 - val_loss: 1.4316\n",
      "Epoch 23/100\n",
      "80205/80205 [==============================] - 2s 19us/step - loss: 0.9843 - val_loss: 1.4034\n",
      "Epoch 24/100\n",
      "80205/80205 [==============================] - 2s 19us/step - loss: 0.9504 - val_loss: 1.3728\n",
      "Epoch 25/100\n",
      "80205/80205 [==============================] - 2s 19us/step - loss: 0.9179 - val_loss: 1.3469\n",
      "Epoch 26/100\n",
      "80205/80205 [==============================] - 2s 19us/step - loss: 0.8868 - val_loss: 1.3187\n",
      "Epoch 27/100\n",
      "80205/80205 [==============================] - 2s 19us/step - loss: 0.8568 - val_loss: 1.2936\n",
      "Epoch 28/100\n",
      "80205/80205 [==============================] - 1s 18us/step - loss: 0.8283 - val_loss: 1.2697\n",
      "Epoch 29/100\n",
      "80205/80205 [==============================] - 1s 18us/step - loss: 0.8014 - val_loss: 1.2485\n",
      "Epoch 30/100\n",
      "80205/80205 [==============================] - 2s 19us/step - loss: 0.7754 - val_loss: 1.2281\n",
      "Epoch 31/100\n",
      "80205/80205 [==============================] - 1s 19us/step - loss: 0.7514 - val_loss: 1.2087\n",
      "Epoch 32/100\n",
      "80205/80205 [==============================] - 1s 19us/step - loss: 0.7288 - val_loss: 1.1902\n",
      "Epoch 33/100\n",
      "80205/80205 [==============================] - 2s 19us/step - loss: 0.7076 - val_loss: 1.1740\n",
      "Epoch 34/100\n",
      "80205/80205 [==============================] - 2s 19us/step - loss: 0.6875 - val_loss: 1.1579\n",
      "Epoch 35/100\n",
      "80205/80205 [==============================] - 1s 19us/step - loss: 0.6693 - val_loss: 1.1439\n",
      "Epoch 36/100\n",
      "80205/80205 [==============================] - 2s 19us/step - loss: 0.6522 - val_loss: 1.1315\n",
      "Epoch 37/100\n",
      "80205/80205 [==============================] - 2s 19us/step - loss: 0.6365 - val_loss: 1.1193\n",
      "Epoch 38/100\n",
      "80205/80205 [==============================] - 1s 19us/step - loss: 0.6222 - val_loss: 1.1091\n",
      "Epoch 39/100\n",
      "80205/80205 [==============================] - 1s 19us/step - loss: 0.6092 - val_loss: 1.0994\n",
      "Epoch 40/100\n",
      "80205/80205 [==============================] - 1s 19us/step - loss: 0.5974 - val_loss: 1.0915\n",
      "Epoch 41/100\n",
      "80205/80205 [==============================] - 2s 19us/step - loss: 0.5869 - val_loss: 1.0846\n",
      "Epoch 42/100\n",
      "80205/80205 [==============================] - 1s 19us/step - loss: 0.5776 - val_loss: 1.0784\n",
      "Epoch 43/100\n",
      "80205/80205 [==============================] - 2s 19us/step - loss: 0.5691 - val_loss: 1.0743\n",
      "Epoch 44/100\n",
      "80205/80205 [==============================] - 2s 19us/step - loss: 0.5617 - val_loss: 1.0694\n",
      "Epoch 45/100\n",
      "80205/80205 [==============================] - 2s 19us/step - loss: 0.5552 - val_loss: 1.0664\n",
      "Epoch 46/100\n",
      "80205/80205 [==============================] - 2s 19us/step - loss: 0.5495 - val_loss: 1.0632\n",
      "Epoch 47/100\n",
      "80205/80205 [==============================] - 2s 19us/step - loss: 0.5445 - val_loss: 1.0612\n"
     ]
    },
    {
     "name": "stdout",
     "output_type": "stream",
     "text": [
      "Epoch 48/100\n",
      "80205/80205 [==============================] - 1s 19us/step - loss: 0.5401 - val_loss: 1.0596\n",
      "Epoch 49/100\n",
      "80205/80205 [==============================] - 1s 19us/step - loss: 0.5364 - val_loss: 1.0584\n",
      "Epoch 50/100\n",
      "80205/80205 [==============================] - 2s 19us/step - loss: 0.5330 - val_loss: 1.0573\n",
      "Epoch 51/100\n",
      "80205/80205 [==============================] - 2s 19us/step - loss: 0.5302 - val_loss: 1.0565\n",
      "Epoch 52/100\n",
      "80205/80205 [==============================] - 1s 19us/step - loss: 0.5278 - val_loss: 1.0564\n",
      "Epoch 53/100\n",
      "80205/80205 [==============================] - 2s 19us/step - loss: 0.5255 - val_loss: 1.0566\n",
      "Epoch 54/100\n",
      "80205/80205 [==============================] - 2s 19us/step - loss: 0.5234 - val_loss: 1.0568\n",
      "Epoch 55/100\n",
      "80205/80205 [==============================] - 2s 19us/step - loss: 0.5217 - val_loss: 1.0569\n",
      "RMSE of coll filter with user/movie bias terms: 0.902155908516\n"
     ]
    }
   ],
   "source": [
    "# Fit the model and make prediction\n",
    "# No bias terms for movie and users\n",
    "model = coll_filter_model_reg(num_users, num_movies, include_bias = True)\n",
    "validation_data = ([x_u_test, x_m_test], y_test)\n",
    "checkpointer = EarlyStopping(patience=3, monitor='val_loss')\n",
    "model.optimizer.lr = 0.001\n",
    "model.fit([x_u_train, x_m_train], y_train,\n",
    "          validation_data = validation_data,\n",
    "          #validation_split = 0.2, shuffle = True,\n",
    "          callbacks=[checkpointer],\n",
    "          batch_size = 128, epochs = 100)\n",
    "# Predict and check performance\n",
    "y_pred = model.predict([x_u_test, x_m_test])\n",
    "err = rmse(y_pred, y_test)\n",
    "print(\"RMSE of coll filter with user/movie bias terms:\",err)\n"
   ]
  },
  {
   "cell_type": "markdown",
   "metadata": {
    "heading_collapsed": true
   },
   "source": [
    "### Dense neural network  \n",
    "Using embedding layer to find latent user/movie features"
   ]
  },
  {
   "cell_type": "code",
   "execution_count": 131,
   "metadata": {
    "collapsed": true,
    "hidden": true
   },
   "outputs": [],
   "source": [
    "# Include regularization\n",
    "def nn_model_reg(num_users, num_movies, include_bias = True):\n",
    "\n",
    "    reg_factor = 1e-4\n",
    "    bias_reg_factor = 0\n",
    "    \n",
    "    # User \n",
    "    userid_input = Input(shape=(1,), dtype = 'int64', name='user_input')\n",
    "    user_features = Embedding(input_dim = num_users, \n",
    "                              output_dim = num_features, \n",
    "                              input_length =1,\n",
    "                              embeddings_regularizer=l2(reg_factor))(userid_input)\n",
    "\n",
    "    \n",
    "    # Movie \n",
    "    movieid_input = Input(shape=(1,), dtype = 'int64', name='movie_input')\n",
    "    movie_features = Embedding(input_dim = num_movies, \n",
    "                               output_dim = num_features, \n",
    "                               input_length = 1,\n",
    "                               embeddings_regularizer=l2(reg_factor))(movieid_input)\n",
    "\n",
    "    \n",
    "    # Include user and movie bias?\n",
    "    if include_bias:\n",
    "        \n",
    "        # User bias\n",
    "        user_bias = Embedding(input_dim = num_users, \n",
    "                              output_dim = 1, \n",
    "                              input_length =1,\n",
    "                              embeddings_regularizer=l2(bias_reg_factor))(userid_input) \n",
    "        \n",
    "        # Movie bias\n",
    "        movie_bias = Embedding(input_dim = num_movies, \n",
    "                               output_dim = 1, \n",
    "                               input_length = 1,\n",
    "                               embeddings_regularizer=l2(bias_reg_factor))(movieid_input)    \n",
    "\n",
    "        # Prediction with bias terms\n",
    "        ypred = concatenate([user_features, movie_features, user_bias, movie_bias])\n",
    "    \n",
    "    else:\n",
    "        \n",
    "        # Prediction without bias terms\n",
    "        ypred = concatenate([user_features, movie_features])\n",
    "        \n",
    "    # Prediction model remaining for NN    \n",
    "    ypred = Flatten()(ypred)\n",
    "    ypred = Dropout(0.2)(ypred)\n",
    "    ypred = Dense(64, activation = 'relu')(ypred)\n",
    "    ypred = Dropout(0.2)(ypred)\n",
    "    ypred = Dense(1)(ypred)\n",
    "    \n",
    "    # Model\n",
    "    model = Model(inputs = [userid_input, movieid_input], outputs = ypred)\n",
    "    model.compile(optimizer = Adam(0.001), loss = 'mse')\n",
    "    model.summary()\n",
    "    return model"
   ]
  },
  {
   "cell_type": "code",
   "execution_count": 132,
   "metadata": {
    "hidden": true
   },
   "outputs": [
    {
     "name": "stdout",
     "output_type": "stream",
     "text": [
      "__________________________________________________________________________________________________\n",
      "Layer (type)                    Output Shape         Param #     Connected to                     \n",
      "==================================================================================================\n",
      "user_input (InputLayer)         (None, 1)            0                                            \n",
      "__________________________________________________________________________________________________\n",
      "movie_input (InputLayer)        (None, 1)            0                                            \n",
      "__________________________________________________________________________________________________\n",
      "embedding_13 (Embedding)        (None, 1, 50)        33550       user_input[0][0]                 \n",
      "__________________________________________________________________________________________________\n",
      "embedding_14 (Embedding)        (None, 1, 50)        453300      movie_input[0][0]                \n",
      "__________________________________________________________________________________________________\n",
      "concatenate_1 (Concatenate)     (None, 1, 100)       0           embedding_13[0][0]               \n",
      "                                                                 embedding_14[0][0]               \n",
      "__________________________________________________________________________________________________\n",
      "flatten_9 (Flatten)             (None, 100)          0           concatenate_1[0][0]              \n",
      "__________________________________________________________________________________________________\n",
      "dropout_1 (Dropout)             (None, 100)          0           flatten_9[0][0]                  \n",
      "__________________________________________________________________________________________________\n",
      "dense_1 (Dense)                 (None, 64)           6464        dropout_1[0][0]                  \n",
      "__________________________________________________________________________________________________\n",
      "dropout_2 (Dropout)             (None, 64)           0           dense_1[0][0]                    \n",
      "__________________________________________________________________________________________________\n",
      "dense_2 (Dense)                 (None, 1)            65          dropout_2[0][0]                  \n",
      "==================================================================================================\n",
      "Total params: 493,379\n",
      "Trainable params: 493,379\n",
      "Non-trainable params: 0\n",
      "__________________________________________________________________________________________________\n",
      "Train on 80205 samples, validate on 19799 samples\n",
      "Epoch 1/50\n",
      "80205/80205 [==============================] - 2s 24us/step - loss: 2.1733 - val_loss: 0.8868\n",
      "Epoch 2/50\n",
      "80205/80205 [==============================] - 2s 21us/step - loss: 0.9185 - val_loss: 0.8621\n",
      "Epoch 3/50\n",
      "80205/80205 [==============================] - 2s 22us/step - loss: 0.8812 - val_loss: 0.8634\n",
      "Epoch 4/50\n",
      "80205/80205 [==============================] - 2s 21us/step - loss: 0.8612 - val_loss: 0.8566\n",
      "Epoch 5/50\n",
      "80205/80205 [==============================] - 2s 21us/step - loss: 0.8441 - val_loss: 0.8586\n",
      "Epoch 6/50\n",
      "80205/80205 [==============================] - 2s 21us/step - loss: 0.8302 - val_loss: 0.8482\n",
      "Epoch 7/50\n",
      "80205/80205 [==============================] - 2s 22us/step - loss: 0.8204 - val_loss: 0.8533\n",
      "Epoch 8/50\n",
      "80205/80205 [==============================] - 2s 21us/step - loss: 0.8097 - val_loss: 0.8552\n",
      "Epoch 9/50\n",
      "80205/80205 [==============================] - 2s 21us/step - loss: 0.7986 - val_loss: 0.8493\n",
      "RMSE of coll filter without user/movie bias: 0.894434983606\n"
     ]
    }
   ],
   "source": [
    "# Fit the model and make prediction\n",
    "# No bias terms for movie and users\n",
    "model = nn_model_reg(num_users, num_movies, include_bias = False)\n",
    "validation_data = ([x_u_test, x_m_test], y_test)\n",
    "checkpointer = EarlyStopping(patience=3, monitor='val_loss')\n",
    "model.fit([x_u_train, x_m_train], y_train,\n",
    "          validation_data = validation_data,\n",
    "          #validation_split = 0.05, shuffle = True,\n",
    "          callbacks=[checkpointer],\n",
    "          batch_size = 128, epochs = 50)\n",
    "# Predict and check performance\n",
    "y_pred = model.predict([x_u_test, x_m_test])\n",
    "err = rmse(y_pred, y_test)\n",
    "print(\"RMSE of coll filter without user/movie bias:\",err)"
   ]
  },
  {
   "cell_type": "code",
   "execution_count": 133,
   "metadata": {
    "hidden": true
   },
   "outputs": [
    {
     "name": "stdout",
     "output_type": "stream",
     "text": [
      "__________________________________________________________________________________________________\n",
      "Layer (type)                    Output Shape         Param #     Connected to                     \n",
      "==================================================================================================\n",
      "user_input (InputLayer)         (None, 1)            0                                            \n",
      "__________________________________________________________________________________________________\n",
      "movie_input (InputLayer)        (None, 1)            0                                            \n",
      "__________________________________________________________________________________________________\n",
      "embedding_15 (Embedding)        (None, 1, 50)        33550       user_input[0][0]                 \n",
      "__________________________________________________________________________________________________\n",
      "embedding_16 (Embedding)        (None, 1, 50)        453300      movie_input[0][0]                \n",
      "__________________________________________________________________________________________________\n",
      "embedding_17 (Embedding)        (None, 1, 1)         671         user_input[0][0]                 \n",
      "__________________________________________________________________________________________________\n",
      "embedding_18 (Embedding)        (None, 1, 1)         9066        movie_input[0][0]                \n",
      "__________________________________________________________________________________________________\n",
      "concatenate_2 (Concatenate)     (None, 1, 102)       0           embedding_15[0][0]               \n",
      "                                                                 embedding_16[0][0]               \n",
      "                                                                 embedding_17[0][0]               \n",
      "                                                                 embedding_18[0][0]               \n",
      "__________________________________________________________________________________________________\n",
      "flatten_10 (Flatten)            (None, 102)          0           concatenate_2[0][0]              \n",
      "__________________________________________________________________________________________________\n",
      "dropout_3 (Dropout)             (None, 102)          0           flatten_10[0][0]                 \n",
      "__________________________________________________________________________________________________\n",
      "dense_3 (Dense)                 (None, 64)           6592        dropout_3[0][0]                  \n",
      "__________________________________________________________________________________________________\n",
      "dropout_4 (Dropout)             (None, 64)           0           dense_3[0][0]                    \n",
      "__________________________________________________________________________________________________\n",
      "dense_4 (Dense)                 (None, 1)            65          dropout_4[0][0]                  \n",
      "==================================================================================================\n",
      "Total params: 503,244\n",
      "Trainable params: 503,244\n",
      "Non-trainable params: 0\n",
      "__________________________________________________________________________________________________\n",
      "Train on 80205 samples, validate on 19799 samples\n",
      "Epoch 1/50\n",
      "80205/80205 [==============================] - 2s 26us/step - loss: 2.0332 - val_loss: 0.8762\n",
      "Epoch 2/50\n",
      "80205/80205 [==============================] - 2s 22us/step - loss: 0.8962 - val_loss: 0.8632\n",
      "Epoch 3/50\n",
      "80205/80205 [==============================] - 2s 23us/step - loss: 0.8593 - val_loss: 0.8511\n",
      "Epoch 4/50\n",
      "80205/80205 [==============================] - 2s 24us/step - loss: 0.8375 - val_loss: 0.8502\n",
      "Epoch 5/50\n",
      "80205/80205 [==============================] - 2s 23us/step - loss: 0.8267 - val_loss: 0.8486\n",
      "Epoch 6/50\n",
      "80205/80205 [==============================] - 2s 24us/step - loss: 0.8138 - val_loss: 0.8549\n",
      "Epoch 7/50\n",
      "80205/80205 [==============================] - 2s 23us/step - loss: 0.8047 - val_loss: 0.8469\n",
      "Epoch 8/50\n",
      "80205/80205 [==============================] - 2s 23us/step - loss: 0.7911 - val_loss: 0.8433\n",
      "Epoch 9/50\n",
      "80205/80205 [==============================] - 2s 23us/step - loss: 0.7785 - val_loss: 0.8503\n",
      "Epoch 10/50\n",
      "80205/80205 [==============================] - 2s 23us/step - loss: 0.7653 - val_loss: 0.8469\n",
      "Epoch 11/50\n",
      "80205/80205 [==============================] - 2s 23us/step - loss: 0.7506 - val_loss: 0.8541\n",
      "RMSE of coll filter without user/movie bias: 0.898215132174\n"
     ]
    }
   ],
   "source": [
    "# Fit the model and make prediction\n",
    "# No bias terms for movie and users\n",
    "model = nn_model_reg(num_users, num_movies, include_bias = True)\n",
    "validation_data = ([x_u_test, x_m_test], y_test)\n",
    "checkpointer = EarlyStopping(patience=3, monitor='val_loss')\n",
    "model.fit([x_u_train, x_m_train], y_train,\n",
    "          validation_data = validation_data,\n",
    "          #validation_split = 0.05, shuffle = True,\n",
    "          callbacks=[checkpointer],\n",
    "          batch_size = 128, epochs = 50)\n",
    "# Predict and check performance\n",
    "y_pred = model.predict([x_u_test, x_m_test])\n",
    "err = rmse(y_pred, y_test)\n",
    "print(\"RMSE of coll filter without user/movie bias:\",err)"
   ]
  },
  {
   "cell_type": "code",
   "execution_count": 135,
   "metadata": {
    "hidden": true
   },
   "outputs": [],
   "source": [
    "# Save model:\n",
    "nn_weights =  modeldir+'nn_with_bias.h5' \n",
    "model.save_weights(nn_weights)"
   ]
  },
  {
   "cell_type": "markdown",
   "metadata": {
    "heading_collapsed": true
   },
   "source": [
    "### Make prediction"
   ]
  },
  {
   "cell_type": "markdown",
   "metadata": {
    "heading_collapsed": true,
    "hidden": true
   },
   "source": [
    "#### Load weights"
   ]
  },
  {
   "cell_type": "code",
   "execution_count": 136,
   "metadata": {
    "collapsed": true,
    "hidden": true
   },
   "outputs": [],
   "source": [
    "nn_weights =  modeldir+'nn_with_bias.h5' \n",
    "model.load_weights(nn_weights)"
   ]
  },
  {
   "cell_type": "markdown",
   "metadata": {
    "heading_collapsed": true,
    "hidden": true
   },
   "source": [
    "#### Predict rating for user and movie"
   ]
  },
  {
   "cell_type": "code",
   "execution_count": 152,
   "metadata": {
    "hidden": true
   },
   "outputs": [
    {
     "name": "stdout",
     "output_type": "stream",
     "text": [
      "Predicted rating is: 3.56581\n"
     ]
    }
   ],
   "source": [
    "userid = 20\n",
    "movieid = 1000\n",
    "userid_in = np.array([userid])\n",
    "movieid_in = np.array([movieid])\n",
    "rating = model.predict([userid_in, movieid_in])\n",
    "print(\"Predicted rating is:\",rating[0][0])"
   ]
  },
  {
   "cell_type": "code",
   "execution_count": null,
   "metadata": {
    "collapsed": true,
    "hidden": true
   },
   "outputs": [],
   "source": []
  }
 ],
 "metadata": {
  "kernelspec": {
   "display_name": "Python 3",
   "language": "python",
   "name": "python3"
  },
  "language_info": {
   "codemirror_mode": {
    "name": "ipython",
    "version": 3
   },
   "file_extension": ".py",
   "mimetype": "text/x-python",
   "name": "python",
   "nbconvert_exporter": "python",
   "pygments_lexer": "ipython3",
   "version": "3.6.3"
  }
 },
 "nbformat": 4,
 "nbformat_minor": 2
}
